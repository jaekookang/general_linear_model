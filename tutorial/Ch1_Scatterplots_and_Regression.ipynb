{
 "cells": [
  {
   "cell_type": "markdown",
   "metadata": {},
   "source": [
    "# Chapter 1. Scatterplots and Regression\n",
    "\n",
    "* This tutorial is based on [ALR book](http://www.wiley.com/WileyCDA/WileyTitle/productCd-1118386086.html) (2013).\n",
    "\n",
    "* Source:\n",
    "    - [Applied Linear Regression by Sanford Weisberg](http://users.stat.umn.edu/~sandy/alr4ed/)"
   ]
  },
  {
   "cell_type": "code",
   "execution_count": 3,
   "metadata": {
    "collapsed": true
   },
   "outputs": [],
   "source": [
    "%matplotlib inline\n",
    "import matplotlib.pyplot as plt\n",
    "import numpy as np\n",
    "import pandas as pd"
   ]
  },
  {
   "cell_type": "markdown",
   "metadata": {},
   "source": [
    "## 1. Scatterplots\n",
    "\n",
    "According to [Applied Linear Regression by Sanford Weisberg](http://users.stat.umn.edu/~sandy/alr4ed/), **regression is the study of dependence**. Regression is a way of investigating the dependency of a response variable by one or more predictor variables.\n",
    "\n",
    "> For example,  \n",
    ">   \n",
    "> $X$ is a predictor variable  \n",
    "> $Y$ is a response variable\n",
    ">   \n",
    "> Value pairs ($x_i, y_i$) where i=1, 2, ... n are observations\n",
    "\n",
    "Example case:\n",
    " In order to see the effect of mother's height on daughter's height, a regression will be used to look at the relationship between the two variables."
   ]
  },
  {
   "cell_type": "code",
   "execution_count": 6,
   "metadata": {},
   "outputs": [
    {
     "data": {
      "text/html": [
       "<div>\n",
       "<style>\n",
       "    .dataframe thead tr:only-child th {\n",
       "        text-align: right;\n",
       "    }\n",
       "\n",
       "    .dataframe thead th {\n",
       "        text-align: left;\n",
       "    }\n",
       "\n",
       "    .dataframe tbody tr th {\n",
       "        vertical-align: top;\n",
       "    }\n",
       "</style>\n",
       "<table border=\"1\" class=\"dataframe\">\n",
       "  <thead>\n",
       "    <tr style=\"text-align: right;\">\n",
       "      <th></th>\n",
       "      <th>mheight</th>\n",
       "      <th>dheight</th>\n",
       "    </tr>\n",
       "  </thead>\n",
       "  <tbody>\n",
       "    <tr>\n",
       "      <th>1</th>\n",
       "      <td>59.7</td>\n",
       "      <td>55.1</td>\n",
       "    </tr>\n",
       "    <tr>\n",
       "      <th>2</th>\n",
       "      <td>58.2</td>\n",
       "      <td>56.5</td>\n",
       "    </tr>\n",
       "    <tr>\n",
       "      <th>3</th>\n",
       "      <td>60.6</td>\n",
       "      <td>56.0</td>\n",
       "    </tr>\n",
       "    <tr>\n",
       "      <th>4</th>\n",
       "      <td>60.7</td>\n",
       "      <td>56.8</td>\n",
       "    </tr>\n",
       "    <tr>\n",
       "      <th>5</th>\n",
       "      <td>61.8</td>\n",
       "      <td>56.0</td>\n",
       "    </tr>\n",
       "  </tbody>\n",
       "</table>\n",
       "</div>"
      ],
      "text/plain": [
       "   mheight  dheight\n",
       "1     59.7     55.1\n",
       "2     58.2     56.5\n",
       "3     60.6     56.0\n",
       "4     60.7     56.8\n",
       "5     61.8     56.0"
      ]
     },
     "execution_count": 6,
     "metadata": {},
     "output_type": "execute_result"
    }
   ],
   "source": [
    "height_data = '../data/Heights.csv'\n",
    "df = pd.read_csv(height_data, sep=',', header=0, index_col=0)\n",
    "df.head() # only first 5 observations"
   ]
  },
  {
   "cell_type": "code",
   "execution_count": 20,
   "metadata": {},
   "outputs": [
    {
     "data": {
      "image/png": "[encoded data removed]",
      "text/plain": [
       "<matplotlib.figure.Figure at 0x110380860>"
      ]
     },
     "metadata": {},
     "output_type": "display_data"
    }
   ],
   "source": [
    "fig, ax = plt.subplots(facecolor='gray')\n",
    "ax.scatter(df.mheight, df.dheight)\n",
    "ax.set_xlabel('mother\\'s height')\n",
    "ax.set_ylabel('daughter\\'s height')\n",
    "ax.grid(True)"
   ]
  },
  {
   "cell_type": "markdown",
   "metadata": {},
   "source": [
    "### 1.2 Mean functions\n",
    "\n",
    "To understand the distribution like above, it is important to think about how to quantify those many data points. One way is to calculate means.\n",
    "\n",
    "> E($Y|X = x$) = a function that depends on the value of $x$  \n",
    "> : This is the expected value of the response $Y$ when $X$ was fixed as $x$.\n",
    "\n",
    "Depending on how the relationship between the two variables is, we may set a guess or, a **linear model**, to the expectation.\n",
    "\n",
    "> e.g. E(daughter's height|mother's height = $x$) = $\\beta_0 + \\beta_1 x$\n",
    "\n",
    "If our guess is not linear rather nonlinear, we may think about nonlinear model such as:\n",
    "\n",
    "> e.g. E(daughter's height|mother's height = $x$) = $\\beta_0 + \\beta_1 \\cdot \\left[1 - \\exp(-\\beta_2 \\cdot x) \\right]$"
   ]
  },
  {
   "cell_type": "markdown",
   "metadata": {},
   "source": [
    "### 1.3 Variance functions\n",
    "\n",
    "One of the useful characterics about the distribution is that variance of the given data point is fixed. _Variance function_ is defined as:\n",
    "\n",
    "> Var($Y|X = x$) = $\\sigma^2$\n",
    "\n",
    "In linear regression, it is often assumed that the variance is same for every data point $x$."
   ]
  },
  {
   "cell_type": "code",
   "execution_count": null,
   "metadata": {
    "collapsed": true
   },
   "outputs": [],
   "source": []
  }
 ],
 "metadata": {
  "kernelspec": {
   "display_name": "Python 3",
   "language": "python",
   "name": "python3"
  },
  "language_info": {
   "codemirror_mode": {
    "name": "ipython",
    "version": 3
   },
   "file_extension": ".py",
   "mimetype": "text/x-python",
   "name": "python",
   "nbconvert_exporter": "python",
   "pygments_lexer": "ipython3",
   "version": "3.6.1"
  }
 },
 "nbformat": 4,
 "nbformat_minor": 2
}
